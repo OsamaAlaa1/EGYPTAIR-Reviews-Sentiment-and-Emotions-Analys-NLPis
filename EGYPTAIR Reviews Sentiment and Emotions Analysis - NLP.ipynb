{
 "cells": [
  {
   "cell_type": "markdown",
   "metadata": {},
   "source": [
    "# EGYPTAIR Reviews Sentiment + Emotions Analysis\n",
    "\n",
    "---\n",
    "\n",
    "## Web scraping and analysis\n",
    "\n",
    "This Jupyter notebook includes some code to get you started with web scraping. We will use a package called `BeautifulSoup` to collect the data from the web. Once you've collected your data and saved it into a local `.csv` file you should start with your analysis.\n",
    "\n",
    "### Scraping data from Skytrax and Trustpilot\n",
    "\n",
    "If you visit [https://www.airlinequality.com], [https://www.trustpilot.com] you can see that there is a lot of data there. For this task, we are only interested in reviews related to EgyptAir and the Airline itself.\n",
    "\n",
    "If you navigate to this links: [https://www.airlinequality.com/airline-reviews/egyptair], [https://www.trustpilot.com/review/egyptair.com] you will see this data. Now, we can use `Python` and `BeautifulSoup` to collect all the links to the reviews and then to collect the text data on each of the individual review links.\n"
   ]
  },
  {
   "cell_type": "code",
   "execution_count": 1,
   "metadata": {},
   "outputs": [],
   "source": [
    "# import needed packages\n",
    "import requests\n",
    "from bs4 import BeautifulSoup\n",
    "import pandas as pd"
   ]
  },
  {
   "cell_type": "code",
   "execution_count": 2,
   "metadata": {},
   "outputs": [
    {
     "name": "stdout",
     "output_type": "stream",
     "text": [
      "Scraping page 1\n",
      "   ---> 100 total reviews\n",
      "Scraping page 2\n",
      "   ---> 200 total reviews\n",
      "Scraping page 3\n",
      "   ---> 300 total reviews\n",
      "Scraping page 4\n",
      "   ---> 400 total reviews\n"
     ]
    }
   ],
   "source": [
    "base_url = \"https://www.airlinequality.com/airline-reviews/egyptair\"\n",
    "pages = 4            # number of pages \n",
    "page_size = 100      \n",
    "\n",
    "reviews = []        # 100*4 = 400 review  \n",
    "\n",
    "# for i in range(1, pages + 1):\n",
    "for i in range(1, pages + 1):\n",
    "\n",
    "    print(f\"Scraping page {i}\")\n",
    "\n",
    "    # Create URL to collect links from paginated data\n",
    "    url = f\"{base_url}/page/{i}/?sortby=post_date%3ADesc&pagesize={page_size}\"\n",
    "\n",
    "    # Collect HTML data from this page\n",
    "    response = requests.get(url)\n",
    "\n",
    "    # Parse content\n",
    "    content = response.content\n",
    "    parsed_content = BeautifulSoup(content, 'lxml')\n",
    "    for para in parsed_content.find_all(\"div\", {\"class\": \"text_content\"}):\n",
    "        reviews.append(para.get_text())\n",
    "    \n",
    "    print(f\"   ---> {len(reviews)} total reviews\")"
   ]
  },
  {
   "cell_type": "code",
   "execution_count": 3,
   "metadata": {},
   "outputs": [
    {
     "name": "stdout",
     "output_type": "stream",
     "text": [
      "Scraping page 1\n",
      "   ---> 20 total reviews\n",
      "Scraping page 2\n",
      "   ---> 40 total reviews\n",
      "Scraping page 3\n",
      "   ---> 59 total reviews\n",
      "Scraping page 4\n",
      "   ---> 79 total reviews\n",
      "Scraping page 5\n",
      "   ---> 99 total reviews\n",
      "Scraping page 6\n",
      "   ---> 118 total reviews\n",
      "Scraping page 7\n",
      "   ---> 138 total reviews\n",
      "Scraping page 8\n",
      "   ---> 158 total reviews\n",
      "Scraping page 9\n",
      "   ---> 178 total reviews\n",
      "Scraping page 10\n",
      "   ---> 196 total reviews\n",
      "Scraping page 11\n",
      "   ---> 216 total reviews\n",
      "Scraping page 12\n",
      "   ---> 219 total reviews\n"
     ]
    }
   ],
   "source": [
    "#---------------------------------------------------- trustpilot section --------------------------------------------------------\n",
    "\n",
    "pages = 12  # number of pages \n",
    "pilot_reviews = []\n",
    "\n",
    "# for i in range(1, pages + 1) to iterate over the pages\n",
    "for i in range(1, pages + 1):\n",
    "    \n",
    "    # Create URL to collect links from paginated data\n",
    "    url = f\"https://www.trustpilot.com/review/egyptair.com?page={i}&sort=recency\"\n",
    "\n",
    "    print(f\"Scraping page {i}\")\n",
    "\n",
    "    # Collect HTML data from this page\n",
    "    response = requests.get(url)\n",
    "\n",
    "    # Parse content\n",
    "    content = response.content\n",
    "    parsed_content = BeautifulSoup(content, 'html.parser')\n",
    "    for para in parsed_content.find_all(\"p\", {\"class\": \"typography_body-l__KUYFJ typography_appearance-default__AAY17 typography_color-black__5LYEn\"}):\n",
    "        pilot_reviews.append(para.get_text())\n",
    "    \n",
    "\n",
    "    print(f\"   ---> {len(pilot_reviews)} total reviews\")\n"
   ]
  },
  {
   "cell_type": "markdown",
   "metadata": {},
   "source": [
    "## Turn extracted data into csv files\n"
   ]
  },
  {
   "cell_type": "code",
   "execution_count": 4,
   "metadata": {},
   "outputs": [],
   "source": [
    "df_st = pd.DataFrame()\n",
    "df_st[\"reviews\"] = reviews\n",
    "df_st.to_csv(\"EGYPTAIR_reviews_skytrax.csv\")\n",
    "\n",
    "df_tp = pd.DataFrame()\n",
    "df_tp[\"reviews\"] = pilot_reviews\n",
    "df_tp.to_csv(\"EGYPTAIR_reviews_trustpilot.csv\")"
   ]
  },
  {
   "cell_type": "markdown",
   "metadata": {},
   "source": [
    "## Read and load csv file"
   ]
  },
  {
   "cell_type": "code",
   "execution_count": 7,
   "metadata": {},
   "outputs": [
    {
     "data": {
      "text/html": [
       "<div>\n",
       "<style scoped>\n",
       "    .dataframe tbody tr th:only-of-type {\n",
       "        vertical-align: middle;\n",
       "    }\n",
       "\n",
       "    .dataframe tbody tr th {\n",
       "        vertical-align: top;\n",
       "    }\n",
       "\n",
       "    .dataframe thead th {\n",
       "        text-align: right;\n",
       "    }\n",
       "</style>\n",
       "<table border=\"1\" class=\"dataframe\">\n",
       "  <thead>\n",
       "    <tr style=\"text-align: right;\">\n",
       "      <th></th>\n",
       "      <th>reviews</th>\n",
       "    </tr>\n",
       "  </thead>\n",
       "  <tbody>\n",
       "    <tr>\n",
       "      <th>0</th>\n",
       "      <td>✅ Trip Verified |  I traveled with them in Jul...</td>\n",
       "    </tr>\n",
       "    <tr>\n",
       "      <th>1</th>\n",
       "      <td>Not Verified |  The worst service experience I...</td>\n",
       "    </tr>\n",
       "    <tr>\n",
       "      <th>2</th>\n",
       "      <td>Not Verified |  It is 4th time in a row . And ...</td>\n",
       "    </tr>\n",
       "    <tr>\n",
       "      <th>3</th>\n",
       "      <td>✅ Trip Verified |  Unfriendly staff who you ha...</td>\n",
       "    </tr>\n",
       "    <tr>\n",
       "      <th>4</th>\n",
       "      <td>✅ Trip Verified |  All went perfectly until tr...</td>\n",
       "    </tr>\n",
       "  </tbody>\n",
       "</table>\n",
       "</div>"
      ],
      "text/plain": [
       "                                             reviews\n",
       "0  ✅ Trip Verified |  I traveled with them in Jul...\n",
       "1  Not Verified |  The worst service experience I...\n",
       "2  Not Verified |  It is 4th time in a row . And ...\n",
       "3  ✅ Trip Verified |  Unfriendly staff who you ha...\n",
       "4  ✅ Trip Verified |  All went perfectly until tr..."
      ]
     },
     "execution_count": 7,
     "metadata": {},
     "output_type": "execute_result"
    }
   ],
   "source": [
    "#read the csv file for EGYPTAIR reviews from skyrax and take a look \n",
    "df_st = pd.read_csv(\"EGYPTAIR_reviews_skytrax.csv\", index_col= 0)\n",
    "\n",
    "#read the csv file for EGYPTAIR reviews from trustpilot and take a look \n",
    "df_tp = pd.read_csv(\"EGYPTAIR_reviews_trustpilot.csv\", index_col= 0)\n",
    "\n",
    "df_st.head()\n"
   ]
  },
  {
   "cell_type": "code",
   "execution_count": 6,
   "metadata": {},
   "outputs": [
    {
     "data": {
      "text/html": [
       "<div>\n",
       "<style scoped>\n",
       "    .dataframe tbody tr th:only-of-type {\n",
       "        vertical-align: middle;\n",
       "    }\n",
       "\n",
       "    .dataframe tbody tr th {\n",
       "        vertical-align: top;\n",
       "    }\n",
       "\n",
       "    .dataframe thead th {\n",
       "        text-align: right;\n",
       "    }\n",
       "</style>\n",
       "<table border=\"1\" class=\"dataframe\">\n",
       "  <thead>\n",
       "    <tr style=\"text-align: right;\">\n",
       "      <th></th>\n",
       "      <th>reviews</th>\n",
       "    </tr>\n",
       "  </thead>\n",
       "  <tbody>\n",
       "    <tr>\n",
       "      <th>0</th>\n",
       "      <td>My first time with Egyptair bad to worse exper...</td>\n",
       "    </tr>\n",
       "    <tr>\n",
       "      <th>1</th>\n",
       "      <td>The worsr airline ive ever flewn with. No scre...</td>\n",
       "    </tr>\n",
       "    <tr>\n",
       "      <th>2</th>\n",
       "      <td>Please get my luggage to me - I'm here for COP...</td>\n",
       "    </tr>\n",
       "    <tr>\n",
       "      <th>3</th>\n",
       "      <td>I was really surprised about quality of servic...</td>\n",
       "    </tr>\n",
       "    <tr>\n",
       "      <th>4</th>\n",
       "      <td>Worst airline ever to use.Hostesses are sullen...</td>\n",
       "    </tr>\n",
       "  </tbody>\n",
       "</table>\n",
       "</div>"
      ],
      "text/plain": [
       "                                             reviews\n",
       "0  My first time with Egyptair bad to worse exper...\n",
       "1  The worsr airline ive ever flewn with. No scre...\n",
       "2  Please get my luggage to me - I'm here for COP...\n",
       "3  I was really surprised about quality of servic...\n",
       "4  Worst airline ever to use.Hostesses are sullen..."
      ]
     },
     "execution_count": 6,
     "metadata": {},
     "output_type": "execute_result"
    }
   ],
   "source": [
    "df_tp.head()"
   ]
  },
  {
   "cell_type": "markdown",
   "metadata": {},
   "source": [
    "##  Now let's clean the text data  \n",
    "#### plus u have to make sure there are:\n",
    "1. No useless text data.\n",
    "2. No Uppercase letters (turn all letters to lowercase).\n",
    "3. No Punctuations.\n",
    "4. Tokenization and stop words handling."
   ]
  },
  {
   "cell_type": "code",
   "execution_count": 8,
   "metadata": {},
   "outputs": [],
   "source": [
    "import string   # we need it for Punctuations removal\n",
    "from stop_words import get_stop_words   # or we can use from nltk.corpus import stopwords \n",
    "from nltk.tokenize import word_tokenize # it turn text to list but more faster \n",
    "\n",
    "def sentiment_clean_text(text):\n",
    "    '''\n",
    "    this function take text and clean it  \n",
    "\n",
    "    Parameters\n",
    "    ----------\n",
    "    text : string \n",
    "\n",
    "    Returns\n",
    "    -------\n",
    "    text_list : string after cleaning.\n",
    "\n",
    "    '''\n",
    "\n",
    "\n",
    "    # A. first step remove useless text data (if there are any) note: i don't need data before | so I will remove it \n",
    "    if '|' in text:\n",
    "        text =  text.split('|')[1]   \n",
    "       \n",
    "    # B. second turn letters into lowercase \n",
    "    text = text.lower()\n",
    "        \n",
    "    # C. third remove all Punctuations.\n",
    "    text = text.translate(str.maketrans('','',string.punctuation))\n",
    "    \n",
    "    return text\n",
    "\n",
    "def emotion_clean_text(text):\n",
    "    '''\n",
    "    this function take text and clean it then turn it to list of words \n",
    "\n",
    "    Parameters\n",
    "    ----------\n",
    "    text : string \n",
    "\n",
    "    Returns\n",
    "    -------\n",
    "    text_list : list of text words after cleaning.\n",
    "\n",
    "    '''\n",
    "        \n",
    "    # D. forth step Tokenization and stop words \n",
    "        \n",
    "    # Tokenizaiton: turning string into list of words.\n",
    "    # Stop words: words without meaning for sentiment analysis.\n",
    "\n",
    "        \n",
    "    # Tokenizaiton\n",
    "    text = word_tokenize(text,\"english\")\n",
    "    \n",
    "    # handeling the stop words but what are the stop words \n",
    "    stop_words = get_stop_words('english') #or we can use stop_words = stopwords.words('english')\n",
    "\n",
    "    # Removing stop words from the tokenized words list\n",
    "    text_list = []\n",
    "    \n",
    "    for word in text:\n",
    "        if word not in stop_words:\n",
    "            text_list.append(word)\n",
    "\n",
    "       \n",
    "    # return the list of words\n",
    "    return text_list\n"
   ]
  },
  {
   "cell_type": "markdown",
   "metadata": {},
   "source": [
    "## Emotion text dectionary "
   ]
  },
  {
   "cell_type": "code",
   "execution_count": 9,
   "metadata": {},
   "outputs": [],
   "source": [
    "def emotion_maping (file,di): \n",
    "    \n",
    "    for line in file:\n",
    "        clear_line = line.replace(\"\\n\", '').replace(\",\", '').replace(\"'\", '').strip()\n",
    "        word, emotion = clear_line.split(':')\n",
    "        di[word] = emotion\n",
    "            \n",
    "    return di"
   ]
  },
  {
   "cell_type": "markdown",
   "metadata": {},
   "source": [
    "## Now we have clean data let's Do sentiment analysis "
   ]
  },
  {
   "cell_type": "code",
   "execution_count": 10,
   "metadata": {},
   "outputs": [],
   "source": [
    "# let's import the needed packages \n",
    "from nltk.sentiment.vader import SentimentIntensityAnalyzer\n",
    "\n",
    "# function to carry out the     \n",
    "def sentiment_analyze(text):\n",
    "    \n",
    "    scores = SentimentIntensityAnalyzer().polarity_scores(text) # return dictionary of scores\n",
    "    \n",
    "    if (scores['neg'] > scores['pos']):\n",
    "        return 0\n",
    "    \n",
    "    else:\n",
    "        return 1\n"
   ]
  },
  {
   "cell_type": "markdown",
   "metadata": {},
   "source": [
    "## Main "
   ]
  },
  {
   "cell_type": "code",
   "execution_count": 12,
   "metadata": {},
   "outputs": [],
   "source": [
    "from collections import Counter\n",
    "\n",
    "# define needed data structures\n",
    "cleaned_text = \"\"\n",
    "temp_emotion_list = []\n",
    "score = 0\n",
    "emotion_dict = {}\n",
    "words_score_dict = {}\n",
    "moods_list_st = []\n",
    "moods_list_tp = []\n",
    "\n",
    "# get the emotion dictionary ready\n",
    "emotion_file = open('D:/Forage/EGYPYAIR/emotions.txt','r',encoding='utf-8') \n",
    "emotion_dict = emotion_maping(emotion_file,emotion_dict)\n",
    "emotion_file.close()\n",
    "\n",
    "# ------------------------ loop for the skytrx Dataframe ------------------------------\n",
    "\n",
    "# loop for all reviews in Skytrax dataFrame  \n",
    "for i in range(len(df_st)):\n",
    "    \n",
    "    # get the review of index i\n",
    "    text = str(df_st['reviews'][i])\n",
    "    \n",
    "    # step 1: let's clean the text and assign cleaned list to dataFrame \n",
    "    # simple clean \n",
    "    cleaned_text= sentiment_clean_text(text)\n",
    "    \n",
    "    #Step 2: sentiment Analysis\n",
    "    score = sentiment_analyze(cleaned_text)\n",
    "    moods_list_st.append(score)\n",
    "\n",
    "    \n",
    "    # Step 3: advanced clean for emotions\n",
    "    cleaned_text_list = emotion_clean_text(cleaned_text)\n",
    "    df_st['reviews'][i] = cleaned_text_list\n",
    "    \n",
    "\n",
    "    # Step 4: emotion list builder\n",
    "    for word in emotion_dict.keys():\n",
    "        if word in cleaned_text_list:\n",
    "            temp_emotion_list.append(emotion_dict[word])    \n",
    "\n",
    "# now let's create new column for moods for skytrax\n",
    "df_st['mood'] = moods_list_st\n",
    "\n",
    "\n",
    "# ------------------------ loop for the trustpilot Dataframe ------------------------------\n",
    "\n",
    "# loop for all reviews in trustpilot dataFrame  \n",
    "for i in range(len(df_tp)):\n",
    "    \n",
    "    # get the review of index i\n",
    "    text = str(df_tp['reviews'][i])\n",
    "    \n",
    "    # step 1: let's clean the text and assign cleaned list to dataFrame \n",
    "    # simple clean \n",
    "    cleaned_text= sentiment_clean_text(text)\n",
    "    \n",
    "    #Step 2: sentiment Analysis\n",
    "    score = sentiment_analyze(cleaned_text)\n",
    "    moods_list_tp.append(score)\n",
    "\n",
    "    \n",
    "    # Step 3: advanced clean for emotions\n",
    "    cleaned_text_list = emotion_clean_text(cleaned_text)\n",
    "    df_tp['reviews'][i] = cleaned_text_list\n",
    "    \n",
    "\n",
    "    # Step 4: emotion list builder\n",
    "    for word in emotion_dict.keys():\n",
    "        if word in cleaned_text_list:\n",
    "            temp_emotion_list.append(emotion_dict[word])  \n",
    "\n",
    "\n",
    "# now let's create new column for moods trust pilot dataframe\n",
    "df_tp['mood'] = moods_list_tp\n"
   ]
  },
  {
   "cell_type": "markdown",
   "metadata": {},
   "source": [
    "## Plot  findings"
   ]
  },
  {
   "cell_type": "code",
   "execution_count": 13,
   "metadata": {},
   "outputs": [
    {
     "data": {
      "image/png": "[encoded data removed]",
      "text/plain": [
       "<Figure size 640x480 with 1 Axes>"
      ]
     },
     "metadata": {},
     "output_type": "display_data"
    },
    {
     "data": {
      "image/png": "[encoded data removed]",
      "text/plain": [
       "<Figure size 2000x1000 with 1 Axes>"
      ]
     },
     "metadata": {},
     "output_type": "display_data"
    }
   ],
   "source": [
    "#____________________________ Plot for sentiment Vader scores ____________________________________\n",
    "\n",
    "\n",
    "# Step 5: plot sentiment and emotions \n",
    "import matplotlib.pyplot as plt\n",
    "plt.style.use('fivethirtyeight')\n",
    "\n",
    "\n",
    "# get summary dictionary for sentiment \n",
    "moods_list_all = moods_list_st + moods_list_tp\n",
    "mmod_summary = dict(Counter(moods_list_all))\n",
    "\n",
    "# rename dictionary keys before ploting \n",
    "mmod_summary['positive'] = mmod_summary.pop(1)\n",
    "mmod_summary['negative'] = mmod_summary.pop(0)\n",
    "\n",
    "fig, ax = plt.subplots()\n",
    "ax.bar(mmod_summary.keys(), mmod_summary.values())\n",
    "\n",
    "# label the plot \n",
    "plt.xlabel('Sentiments')\n",
    "plt.ylabel('Frequency')\n",
    "plt.savefig('Sentiments.png')\n",
    "plt.show()\n",
    "\n",
    "#____________________________ Plot for emotions ____________________________________\n",
    "\n",
    "# turn the emotion list into dictionary \n",
    "words_score_dict = dict(Counter(temp_emotion_list))\n",
    "\n",
    "# now let's go more Specifically and just choose emotions with freq more than 10\n",
    "more_than_15_emotions = dict( (key, value) for (key, value) in words_score_dict.items() if value > 15 )\n",
    "\n",
    "\n",
    "fig, ax = plt.subplots()\n",
    "#ax.bar(words_score_dict.keys(), words_score_dict.values())\n",
    "ax.bar(more_than_15_emotions.keys(), more_than_15_emotions.values())\n",
    "\n",
    "# the fit the text undre graph \n",
    "fig.autofmt_xdate()\n",
    "\n",
    "# change the width and length of plot \n",
    "fig.set_figwidth(20)\n",
    "fig.set_figheight(10)\n",
    "\n",
    "# label the plot \n",
    "plt.xlabel('Emotions')\n",
    "plt.ylabel('Frequency')\n",
    "\n",
    "#save the graph and show it \n",
    "plt.savefig('More_than_15_emotions.png')\n",
    "plt.show()\n",
    "\n",
    "\n"
   ]
  },
  {
   "cell_type": "code",
   "execution_count": null,
   "metadata": {},
   "outputs": [],
   "source": []
  }
 ],
 "metadata": {
  "kernelspec": {
   "display_name": "Python 3 (ipykernel)",
   "language": "python",
   "name": "python3"
  },
  "language_info": {
   "codemirror_mode": {
    "name": "ipython",
    "version": 3
   },
   "file_extension": ".py",
   "mimetype": "text/x-python",
   "name": "python",
   "nbconvert_exporter": "python",
   "pygments_lexer": "ipython3",
   "version": "3.9.7"
  },
  "vscode": {
   "interpreter": {
    "hash": "4f7924c4c56b083e0e50eadfe7ef592a7a8ef70df33a0047f82280e6be1afe15"
   }
  }
 },
 "nbformat": 4,
 "nbformat_minor": 4
}
